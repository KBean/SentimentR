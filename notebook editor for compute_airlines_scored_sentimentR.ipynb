{
 "cells": [
  {
   "cell_type": "code",
   "execution_count": 40,
   "metadata": {},
   "outputs": [
    {
     "name": "stderr",
     "output_type": "stream",
     "text": [
      "Loading required package: NLP\n"
     ]
    }
   ],
   "source": [
    "library(dataiku)\n",
    "#library(sentimentr)\n",
    "library(SentimentAnalysis)\n",
    "library(dplyr)\n",
    "library(tm)\n"
   ]
  },
  {
   "cell_type": "code",
   "execution_count": 11,
   "metadata": {},
   "outputs": [
    {
     "name": "stderr",
     "output_type": "stream",
     "text": [
      "`mutate_each()` is deprecated.\n",
      "Use `mutate_all()`, `mutate_at()` or `mutate_if()` instead.\n",
      "To map `funs` over all variables, use `mutate_all()`\n"
     ]
    }
   ],
   "source": [
    "\n",
    "# Recipe inputs\n",
    "df <- dkuReadDataset(\"airline_tweets_unique\", samplingMethod=\"head\", nbRows=100000)\n",
    "\n",
    "\n",
    "#Score with sentimentR\n",
    "#df$sentimentR_polarity <- sentiment(df$text)$sentiment\n",
    "\n",
    "#df <- cbind(df, sentiment[,4])\n",
    "\n",
    "\n",
    "#Score with sentimentAnalyzer and take the mean\n",
    "\n"
   ]
  },
  {
   "cell_type": "code",
   "execution_count": 3,
   "metadata": {},
   "outputs": [
    {
     "data": {
      "text/html": [
       "<table>\n",
       "<thead><tr><th scope=col>text_processed</th><th scope=col>text</th></tr></thead>\n",
       "<tbody>\n",
       "\t<tr><td>0 19 left play americanairlines arena miami florida usa wizards 109 113 heat nba 2018 2019               </td><td>0:19 left to play at AmericanAirlines Arena, Miami, Florida, USA: #Wizards 109-113 #Heat . #NBA 2018-2019</td></tr>\n",
       "\t<tr><td>0 2 emirates                                                                                             </td><td>0-2 at Emirates 😂😂                                                                     </td></tr>\n",
       "\t<tr><td>0 25 eps expected ryanair holdings plc ryaay loews l sentiment 0 95 s t  hxg2rvdxih                      </td><td>$0.25 EPS Expected for Ryanair Holdings plc $RYAAY; Loews $L Sentiment Is 0.95                           </td></tr>\n",
       "\t<tr><td>0 25 eps expected ryanair holdings plc ryaay s t  jugrqdwopf                                             </td><td>$0.25 EPS Expected for Ryanair Holdings plc $RYAAY                                                       </td></tr>\n",
       "\t<tr><td>0 25 eps expected ryanair holdings plc ryaay s t  rkgdmy8teg                                             </td><td>$0.25 EPS Expected for Ryanair Holdings plc $RYAAY -                                                     </td></tr>\n",
       "\t<tr><td>0 34 eps expected modine manufacturing mpany mod jetblue airways jblu sentiment 0 94 s t  oebd0yhbgy     </td><td>$0.34 EPS Expected for Modine Manufacturing Company $MOD; Jetblue Airways $JBLUs Sentiment Is 0.94       </td></tr>\n",
       "</tbody>\n",
       "</table>\n"
      ],
      "text/latex": [
       "\\begin{tabular}{r|ll}\n",
       " text\\_processed & text\\\\\n",
       "\\hline\n",
       "\t 0 19 left play americanairlines arena miami florida usa wizards 109 113 heat nba 2018 2019                      & 0:19 left to play at AmericanAirlines Arena, Miami, Florida, USA: \\#Wizards 109-113 \\#Heat . \\#NBA 2018-2019\\\\\n",
       "\t 0 2 emirates                                                                                              & 0-2 at Emirates 😂😂                                                                     \\\\\n",
       "\t 0 25 eps expected ryanair holdings plc ryaay loews l sentiment 0 95 s t  hxg2rvdxih                             & \\$0.25 EPS Expected for Ryanair Holdings plc \\$RYAAY; Loews \\$L Sentiment Is 0.95                           \\\\\n",
       "\t 0 25 eps expected ryanair holdings plc ryaay s t  jugrqdwopf                                                  & \\$0.25 EPS Expected for Ryanair Holdings plc \\$RYAAY                                                       \\\\\n",
       "\t 0 25 eps expected ryanair holdings plc ryaay s t  rkgdmy8teg                                                  & \\$0.25 EPS Expected for Ryanair Holdings plc \\$RYAAY -                                                     \\\\\n",
       "\t 0 34 eps expected modine manufacturing mpany mod jetblue airways jblu sentiment 0 94 s t  oebd0yhbgy            & \\$0.34 EPS Expected for Modine Manufacturing Company \\$MOD; Jetblue Airways \\$JBLUs Sentiment Is 0.94       \\\\\n",
       "\\end{tabular}\n"
      ],
      "text/markdown": [
       "\n",
       "| text_processed | text |\n",
       "|---|---|\n",
       "| 0 19 left play americanairlines arena miami florida usa wizards 109 113 heat nba 2018 2019                | 0:19 left to play at AmericanAirlines Arena, Miami, Florida, USA: #Wizards 109-113 #Heat . #NBA 2018-2019 |\n",
       "| 0 2 emirates                                                                                              | 0-2 at Emirates 😂😂                                                                      |\n",
       "| 0 25 eps expected ryanair holdings plc ryaay loews l sentiment 0 95 s t  hxg2rvdxih                       | $0.25 EPS Expected for Ryanair Holdings plc $RYAAY; Loews $L Sentiment Is 0.95                            |\n",
       "| 0 25 eps expected ryanair holdings plc ryaay s t  jugrqdwopf                                              | $0.25 EPS Expected for Ryanair Holdings plc $RYAAY                                                        |\n",
       "| 0 25 eps expected ryanair holdings plc ryaay s t  rkgdmy8teg                                              | $0.25 EPS Expected for Ryanair Holdings plc $RYAAY -                                                      |\n",
       "| 0 34 eps expected modine manufacturing mpany mod jetblue airways jblu sentiment 0 94 s t  oebd0yhbgy      | $0.34 EPS Expected for Modine Manufacturing Company $MOD; Jetblue Airways $JBLUs Sentiment Is 0.94        |\n",
       "\n"
      ],
      "text/plain": [
       "  text_processed                                                                                      \n",
       "1 0 19 left play americanairlines arena miami florida usa wizards 109 113 heat nba 2018 2019          \n",
       "2 0 2 emirates                                                                                        \n",
       "3 0 25 eps expected ryanair holdings plc ryaay loews l sentiment 0 95 s t  hxg2rvdxih                 \n",
       "4 0 25 eps expected ryanair holdings plc ryaay s t  jugrqdwopf                                        \n",
       "5 0 25 eps expected ryanair holdings plc ryaay s t  rkgdmy8teg                                        \n",
       "6 0 34 eps expected modine manufacturing mpany mod jetblue airways jblu sentiment 0 94 s t  oebd0yhbgy\n",
       "  text                                                                                                     \n",
       "1 0:19 left to play at AmericanAirlines Arena, Miami, Florida, USA: #Wizards 109-113 #Heat . #NBA 2018-2019\n",
       "2 0-2 at Emirates \\U0001f602\\U0001f602                                                                     \n",
       "3 $0.25 EPS Expected for Ryanair Holdings plc $RYAAY; Loews $L Sentiment Is 0.95                           \n",
       "4 $0.25 EPS Expected for Ryanair Holdings plc $RYAAY                                                       \n",
       "5 $0.25 EPS Expected for Ryanair Holdings plc $RYAAY -                                                     \n",
       "6 $0.34 EPS Expected for Modine Manufacturing Company $MOD; Jetblue Airways $JBLUs Sentiment Is 0.94       "
      ]
     },
     "metadata": {},
     "output_type": "display_data"
    }
   ],
   "source": [
    "head(df)"
   ]
  },
  {
   "cell_type": "code",
   "execution_count": 41,
   "metadata": {},
   "outputs": [
    {
     "name": "stderr",
     "output_type": "stream",
     "text": [
      "Warning message in tm_map.SimpleCorpus(corpus, tm::PlainTextDocument):\n",
      "“transformation drops documents”Warning message in tm_map.SimpleCorpus(corpus, tm::content_transformer(tolower)):\n",
      "“transformation drops documents”Warning message in tm_map.SimpleCorpus(corpus, tm::removePunctuation):\n",
      "“transformation drops documents”Warning message in tm_map.SimpleCorpus(corpus, tm::removeNumbers):\n",
      "“transformation drops documents”Warning message in tm_map.SimpleCorpus(corpus, tm::removeWords, tm::stopwords(language)):\n",
      "“transformation drops documents”Warning message in tm_map.SimpleCorpus(corpus, tm::stemDocument, language = language):\n",
      "“transformation drops documents”"
     ]
    },
    {
     "ename": "ERROR",
     "evalue": "Error: cannot allocate vector of size 45.6 Gb\n",
     "output_type": "error",
     "traceback": [
      "Error: cannot allocate vector of size 45.6 Gb\nTraceback:\n",
      "1. analyzeSentiment(corp)",
      "2. analyzeSentiment.Corpus(corp)",
      "3. analyzeSentiment(dtm, language, aggregate, rules, removeStopwords, \n .     stemming, ...)",
      "4. analyzeSentiment.DocumentTermMatrix(dtm, language, aggregate, \n .     rules, removeStopwords, stemming, ...)",
      "5. rule[[1]](x)",
      "6. rowSums(as.matrix(dtm))",
      "7. is.data.frame(x)",
      "8. as.matrix(dtm)",
      "9. as.matrix.simple_triplet_matrix(dtm)",
      "10. matrix(vector(typeof(x$v), prod(nr, nc)), nr, nc)"
     ]
    }
   ],
   "source": [
    "corp <- Corpus(VectorSource(df$text_processed))\n",
    "du <- analyzeSentiment(corp)\n",
    "\n",
    "\n",
    "\n",
    "\n"
   ]
  },
  {
   "cell_type": "code",
   "execution_count": null,
   "metadata": {},
   "outputs": [],
   "source": [
    "du[du == 0] <- NA\n",
    "du <- mutate(du, mean_sentiment = rowMeans(select(du, starts_with(\"Sentiment\")), na.rm=T))\n",
    "\n",
    "df$sentimentA_polarity <- du$mean_sentiment"
   ]
  },
  {
   "cell_type": "code",
   "execution_count": 43,
   "metadata": {},
   "outputs": [],
   "source": [
    "\n",
    "dg <- df$text_processed[1:100]"
   ]
  },
  {
   "cell_type": "code",
   "execution_count": 44,
   "metadata": {
    "scrolled": true
   },
   "outputs": [
    {
     "data": {
      "text/html": [
       "<ol class=list-inline>\n",
       "\t<li>NA</li>\n",
       "\t<li>'0 19 left play americanairlines arena miami florida usa wizards 109 113 heat nba 2018 2019'</li>\n",
       "\t<li>'0 2 emirates'</li>\n",
       "\t<li>'0 25 eps expected ryanair holdings plc ryaay'</li>\n",
       "\t<li>'0 25 eps expected ryanair holdings plc ryaay loews l sentiment 0 95'</li>\n",
       "\t<li>'0 34 eps expected modine manufacturing mpany mod jetblue airways jblu sentiment 0 94'</li>\n",
       "\t<li>'0 37 eps expected jetblue airways rporation jblu'</li>\n",
       "\t<li>'0 77 india v united arab emirates 16 00 10 01 teams sre yes 2 88 betfair sposbook 1 55'</li>\n",
       "\t<li>'0 min libbok gets vodam bulls underway vodam bulls 0 0 emirates lions bulvliowu'</li>\n",
       "\t<li>'0 respect emirates think skullduggery happening etihad allianz arena'</li>\n",
       "\t<li>'00 00 driving home emirates pockets'</li>\n",
       "\t<li>'00 edafe lmaoooooooo man chose santiago bernabeu fav stadium playing emirates regards club fans feelings'</li>\n",
       "\t<li>'005e5n bullet manufactured highbury turned pellet emirates arsenal'</li>\n",
       "\t<li>'007 bond 00 paws28186953 markfrank60 davidlammy ryanair paly nservatives mostly blame forc'</li>\n",
       "\t<li>'007 bond 00 voidthatbinds paws28186953 markfrank60 davidlammy ryanair nservatives large areas unt'</li>\n",
       "\t<li>'007aliyu used emirates practice moment'</li>\n",
       "\t<li>'007kameel neotenyx hullboydan ryanair enurage racism'</li>\n",
       "\t<li>'00mesh lingard mes emirates gun leans something actually gnna lose'</li>\n",
       "\t<li>'00strangers00 qatarairways offer london valid take first flight 15 jan next week'</li>\n",
       "\t<li>'01 02 02 45 pm 0545 2nd t20i nepal tour united arab emirates dubai feb 1 2019 uaevsnepal uaevnep'</li>\n",
       "\t<li>'01 12 2018 fchtonline 1 3 afcwimbledon emirates fa cup away home picture'</li>\n",
       "\t<li>'01saf gilljames54 one wonders world oh people use ryanair'</li>\n",
       "\t<li>'01saf much dislike ryanair t believe fault greece work'</li>\n",
       "\t<li>'01saf ridiculous customer service ryanair 2 people serve 200 ryanair thessaloniki greece customerservice'</li>\n",
       "\t<li>'025ebony nainaiwilliams ryanair charge made big show esing lady firs'</li>\n",
       "\t<li>'029aero britishairways boeing787 climbing away london heathrow airpo ba boeing b787 avia'</li>\n",
       "\t<li>'029aero easternairways embraer e170 london city airpo operating britishairways lcy erj170'</li>\n",
       "\t<li>'04 30 13 55 summerpalace beijinglayover tour fly auckland munich airchina ca784 amp lufthansa'</li>\n",
       "\t<li>'05 01 2019 ftfc 2 3 afcwimbledon emirates fa cup away home'</li>\n",
       "\t<li>'05 february 2019 07 01 pontifex uae day 2 catholic celebration popefrancis united arab emirates'</li>\n",
       "\t<li>'05 february 2019 14 06 relive pontifex visit uae popefrancis apostolic visit united arab emirates'</li>\n",
       "\t<li>'05012019 17 00cet unitedarabemirates vs bahrain livestream available 2 providers'</li>\n",
       "\t<li>'0504traveller us sta moxy jetblue ink deals 120 airbus a220s'</li>\n",
       "\t<li>'06 01 2019 eifzv ryanair ryanair es ryanairpilots ryanairespana b738 boeing ace aeropueo lanzarote'</li>\n",
       "\t<li>'06 01 2019 eigjp ryanair ryanair es ryanairpilots ryanairespana b738 boeing ace aeropueo lanzarote'</li>\n",
       "\t<li>'06 02 2019 eigsj ryanair ryanair es ryanairpilots ryanairespana b738 boeing ace aeropueo lanzarote'</li>\n",
       "\t<li>'06 02 2019 eigxi ryanair ryanair es ryanairpilots ryanairespana b738 boeing ace aeropueo lanzarote'</li>\n",
       "\t<li>'06 02 2019 lufthansa twilight sailing evening cancelled due extremely strong winds forecas'</li>\n",
       "\t<li>'060644francejen itvnews ryanair apologies lady stress caused'</li>\n",
       "\t<li>'063 may st george jetblue making nnections businesstravel travel'</li>\n",
       "\t<li>'069arns lingard banned emirates guy respect never club'</li>\n",
       "\t<li>'07 feb 2019 dengue dhf update 03 asia japan ex united arab emirates rr via promed mail'</li>\n",
       "\t<li>'07nfg lingard just moon walk emirates'</li>\n",
       "\t<li>'08 01 2019 eigxi ryanair ryanair es ryanairpilots ryanairespana b738 boeing ace aeropueo lanzarote'</li>\n",
       "\t<li>'08 09 1 3 ucl 09 10 1 3 pl 17 18 1 3 pl 18 19 1 3 fac love unter attack emirates mufc'</li>\n",
       "\t<li>'089968raph bbcspo anyone beat cardiff bournemouth t beaten top team wembley emirates'</li>\n",
       "\t<li>'09 01 2019 eigdm ryanair ryanair es ryanairpilots ryanairespana b738 boeing ace aeropueo lanzarote'</li>\n",
       "\t<li>'09 22 rlwc2021 one semi final emirates noh london'</li>\n",
       "\t<li>'09ea63 book flight somewhere fiver ryanair'</li>\n",
       "\t<li>'0bserver lufthansa koblerinpak uncle kobler please yaar'</li>\n",
       "\t<li>'0gbreadsticks jetblue beginning think luck'</li>\n",
       "\t<li>'0gbreadsticks jetblue got better minute good luck'</li>\n",
       "\t<li>'0gbreadsticks rosybud123 jetblue noooo just booked flight'</li>\n",
       "\t<li>'0gbreadsticks shocker delayed even now thanks sucking jetblue'</li>\n",
       "\t<li>'0gbreadsticks yuhyuhyuh jetblue worse luck hopefully u get home soon'</li>\n",
       "\t<li>'0gbreadsticks yuhyuhyuh rosybud123 jetblue like say just curse year bad flights literally'</li>\n",
       "\t<li>'0hmyst4rs watching ryanair racism sucks'</li>\n",
       "\t<li>'0mg ryanair cancelled'</li>\n",
       "\t<li>'0mrvaa yala al emirates good luck الامارات الهند'</li>\n",
       "\t<li>'0seikhuemen emirates cup official spurs'</li>\n",
       "\t<li>'0tt0man emplre richfiles1 turkishairlines ridleysttcg poor barbaric child t know better'</li>\n",
       "\t<li>'0uissal hi sorry innvenience may submit mplaint'</li>\n",
       "\t<li>'0vxrdose flights europe ryanair cheap 5 rn'</li>\n",
       "\t<li>'0zylv0lzubgtauu photos inside emirates bur ahmed prison aden detainees appear pictures overhear'</li>\n",
       "\t<li>'1 0 emirates tonight last night willmissthis leavingonajetplane'</li>\n",
       "\t<li>'1 0 emirates tonight willmissthis leavingonajetplane californiahereweme timzanni sharks'</li>\n",
       "\t<li>'1 0 loss united arab emirates 2019 asian cup graham arnold ffa difficult ro'</li>\n",
       "\t<li>'1 0 time added emirates result laurent koscielny injury earlier arsmun live'</li>\n",
       "\t<li>'1 0 united alexis sres return emirates silencing arsenal fans booing throughout'</li>\n",
       "\t<li>'1 00 finish emirates arsenal vs manutd buzzing yg emiratesfacup'</li>\n",
       "\t<li>'1 1 emirates really got skin explain much want us ruin tomorrow'</li>\n",
       "\t<li>'1 12 2019 americanairlines arena'</li>\n",
       "\t<li>'1 2 3 4 5 6 787 experience qatarairways boeing 787 dreamliner staing 28 october lagostogether'</li>\n",
       "\t<li>'1 2 airfrancefr airfrance airfranceklm going johannesburg airpo almost missing nnectio'</li>\n",
       "\t<li>'1 2 arsenal v cardiffcityfc 7 45pm emirates stadium arsenal three last pl matches'</li>\n",
       "\t<li>'1 2 emirates emiratessuppo early morning flight severe low back pain request better seat exit row mayb'</li>\n",
       "\t<li>'1 2 first two britishairways 747 400s delivered ceremony museum flight seat'</li>\n",
       "\t<li>'1 2 glad ryanair repoed racist guy police glad many people angry staff'</li>\n",
       "\t<li>'1 2 hey jetblue just want know impressed young man working gate 26 help'</li>\n",
       "\t<li>'1 2 thanks rulers people united arab emirates audacity nviction taking histor'</li>\n",
       "\t<li>'1 2 u military suppo saudi arabia united arab emirates bombed hospitals health clinics'</li>\n",
       "\t<li>'1 2 united hotel food reimbursement jetblue recently gave 100 credit ffee mint'</li>\n",
       "\t<li>'1 2uganda site astonishingly heroic rescue mission palestinian terrorists hijacked airfrance flight'</li>\n",
       "\t<li>'1 3 dark mufc strip lingard dance celebration emirates stadium third goal ming arsenal pull one back'</li>\n",
       "\t<li>'1 3 emirates againn'</li>\n",
       "\t<li>'1 3 emirates airline looking cabin crew females basic salary 1153 usd every flying hour will paid ap'</li>\n",
       "\t<li>'1 3 emirates bitches arsenal will remain bitches united mufc facup'</li>\n",
       "\t<li>'1 3 emirates lingard winding arsenal fans sanchez sring arsmun facup mufc'</li>\n",
       "\t<li>'1 3 lols exit emirates fa cup way t work us overall played well'</li>\n",
       "\t<li>'1 3 manutd favorite sreline emirates ggmu'</li>\n",
       "\t<li>'1 3 send time one year emirates hell'</li>\n",
       "\t<li>'1 3 standard ars mun sreline emirates world back normal'</li>\n",
       "\t<li>'1 30 finish emirates arsenal vs manutd buzzing yg'</li>\n",
       "\t<li>'1 300 roundtrip emirates first class fare kuala lumpur dubai'</li>\n",
       "\t<li>'1 300 roundtrip emirates first class fare kuala lumpur dubai adventure'</li>\n",
       "\t<li>'1 300 roundtrip emirates first class fare kuala lumpur dubai via onemileatatime'</li>\n",
       "\t<li>'1 300 roundtrip emirates first class fare kualalumpur dubai one mile time southeastasia'</li>\n",
       "\t<li>'1 30am jetblue replacement crew finally shows people clap smh clapping people showed u'</li>\n",
       "\t<li>'1 4 million views easily avoided ryanair epicfail pr'</li>\n",
       "\t<li>'1 4 travel turkishairlines beware nnecting likely overbooked'</li>\n",
       "</ol>\n"
      ],
      "text/latex": [
       "\\begin{enumerate*}\n",
       "\\item NA\n",
       "\\item '0 19 left play americanairlines arena miami florida usa wizards 109 113 heat nba 2018 2019'\n",
       "\\item '0 2 emirates'\n",
       "\\item '0 25 eps expected ryanair holdings plc ryaay'\n",
       "\\item '0 25 eps expected ryanair holdings plc ryaay loews l sentiment 0 95'\n",
       "\\item '0 34 eps expected modine manufacturing mpany mod jetblue airways jblu sentiment 0 94'\n",
       "\\item '0 37 eps expected jetblue airways rporation jblu'\n",
       "\\item '0 77 india v united arab emirates 16 00 10 01 teams sre yes 2 88 betfair sposbook 1 55'\n",
       "\\item '0 min libbok gets vodam bulls underway vodam bulls 0 0 emirates lions bulvliowu'\n",
       "\\item '0 respect emirates think skullduggery happening etihad allianz arena'\n",
       "\\item '00 00 driving home emirates pockets'\n",
       "\\item '00 edafe lmaoooooooo man chose santiago bernabeu fav stadium playing emirates regards club fans feelings'\n",
       "\\item '005e5n bullet manufactured highbury turned pellet emirates arsenal'\n",
       "\\item '007 bond 00 paws28186953 markfrank60 davidlammy ryanair paly nservatives mostly blame forc'\n",
       "\\item '007 bond 00 voidthatbinds paws28186953 markfrank60 davidlammy ryanair nservatives large areas unt'\n",
       "\\item '007aliyu used emirates practice moment'\n",
       "\\item '007kameel neotenyx hullboydan ryanair enurage racism'\n",
       "\\item '00mesh lingard mes emirates gun leans something actually gnna lose'\n",
       "\\item '00strangers00 qatarairways offer london valid take first flight 15 jan next week'\n",
       "\\item '01 02 02 45 pm 0545 2nd t20i nepal tour united arab emirates dubai feb 1 2019 uaevsnepal uaevnep'\n",
       "\\item '01 12 2018 fchtonline 1 3 afcwimbledon emirates fa cup away home picture'\n",
       "\\item '01saf gilljames54 one wonders world oh people use ryanair'\n",
       "\\item '01saf much dislike ryanair t believe fault greece work'\n",
       "\\item '01saf ridiculous customer service ryanair 2 people serve 200 ryanair thessaloniki greece customerservice'\n",
       "\\item '025ebony nainaiwilliams ryanair charge made big show esing lady firs'\n",
       "\\item '029aero britishairways boeing787 climbing away london heathrow airpo ba boeing b787 avia'\n",
       "\\item '029aero easternairways embraer e170 london city airpo operating britishairways lcy erj170'\n",
       "\\item '04 30 13 55 summerpalace beijinglayover tour fly auckland munich airchina ca784 amp lufthansa'\n",
       "\\item '05 01 2019 ftfc 2 3 afcwimbledon emirates fa cup away home'\n",
       "\\item '05 february 2019 07 01 pontifex uae day 2 catholic celebration popefrancis united arab emirates'\n",
       "\\item '05 february 2019 14 06 relive pontifex visit uae popefrancis apostolic visit united arab emirates'\n",
       "\\item '05012019 17 00cet unitedarabemirates vs bahrain livestream available 2 providers'\n",
       "\\item '0504traveller us sta moxy jetblue ink deals 120 airbus a220s'\n",
       "\\item '06 01 2019 eifzv ryanair ryanair es ryanairpilots ryanairespana b738 boeing ace aeropueo lanzarote'\n",
       "\\item '06 01 2019 eigjp ryanair ryanair es ryanairpilots ryanairespana b738 boeing ace aeropueo lanzarote'\n",
       "\\item '06 02 2019 eigsj ryanair ryanair es ryanairpilots ryanairespana b738 boeing ace aeropueo lanzarote'\n",
       "\\item '06 02 2019 eigxi ryanair ryanair es ryanairpilots ryanairespana b738 boeing ace aeropueo lanzarote'\n",
       "\\item '06 02 2019 lufthansa twilight sailing evening cancelled due extremely strong winds forecas'\n",
       "\\item '060644francejen itvnews ryanair apologies lady stress caused'\n",
       "\\item '063 may st george jetblue making nnections businesstravel travel'\n",
       "\\item '069arns lingard banned emirates guy respect never club'\n",
       "\\item '07 feb 2019 dengue dhf update 03 asia japan ex united arab emirates rr via promed mail'\n",
       "\\item '07nfg lingard just moon walk emirates'\n",
       "\\item '08 01 2019 eigxi ryanair ryanair es ryanairpilots ryanairespana b738 boeing ace aeropueo lanzarote'\n",
       "\\item '08 09 1 3 ucl 09 10 1 3 pl 17 18 1 3 pl 18 19 1 3 fac love unter attack emirates mufc'\n",
       "\\item '089968raph bbcspo anyone beat cardiff bournemouth t beaten top team wembley emirates'\n",
       "\\item '09 01 2019 eigdm ryanair ryanair es ryanairpilots ryanairespana b738 boeing ace aeropueo lanzarote'\n",
       "\\item '09 22 rlwc2021 one semi final emirates noh london'\n",
       "\\item '09ea63 book flight somewhere fiver ryanair'\n",
       "\\item '0bserver lufthansa koblerinpak uncle kobler please yaar'\n",
       "\\item '0gbreadsticks jetblue beginning think luck'\n",
       "\\item '0gbreadsticks jetblue got better minute good luck'\n",
       "\\item '0gbreadsticks rosybud123 jetblue noooo just booked flight'\n",
       "\\item '0gbreadsticks shocker delayed even now thanks sucking jetblue'\n",
       "\\item '0gbreadsticks yuhyuhyuh jetblue worse luck hopefully u get home soon'\n",
       "\\item '0gbreadsticks yuhyuhyuh rosybud123 jetblue like say just curse year bad flights literally'\n",
       "\\item '0hmyst4rs watching ryanair racism sucks'\n",
       "\\item '0mg ryanair cancelled'\n",
       "\\item '0mrvaa yala al emirates good luck الامارات الهند'\n",
       "\\item '0seikhuemen emirates cup official spurs'\n",
       "\\item '0tt0man emplre richfiles1 turkishairlines ridleysttcg poor barbaric child t know better'\n",
       "\\item '0uissal hi sorry innvenience may submit mplaint'\n",
       "\\item '0vxrdose flights europe ryanair cheap 5 rn'\n",
       "\\item '0zylv0lzubgtauu photos inside emirates bur ahmed prison aden detainees appear pictures overhear'\n",
       "\\item '1 0 emirates tonight last night willmissthis leavingonajetplane'\n",
       "\\item '1 0 emirates tonight willmissthis leavingonajetplane californiahereweme timzanni sharks'\n",
       "\\item '1 0 loss united arab emirates 2019 asian cup graham arnold ffa difficult ro'\n",
       "\\item '1 0 time added emirates result laurent koscielny injury earlier arsmun live'\n",
       "\\item '1 0 united alexis sres return emirates silencing arsenal fans booing throughout'\n",
       "\\item '1 00 finish emirates arsenal vs manutd buzzing yg emiratesfacup'\n",
       "\\item '1 1 emirates really got skin explain much want us ruin tomorrow'\n",
       "\\item '1 12 2019 americanairlines arena'\n",
       "\\item '1 2 3 4 5 6 787 experience qatarairways boeing 787 dreamliner staing 28 october lagostogether'\n",
       "\\item '1 2 airfrancefr airfrance airfranceklm going johannesburg airpo almost missing nnectio'\n",
       "\\item '1 2 arsenal v cardiffcityfc 7 45pm emirates stadium arsenal three last pl matches'\n",
       "\\item '1 2 emirates emiratessuppo early morning flight severe low back pain request better seat exit row mayb'\n",
       "\\item '1 2 first two britishairways 747 400s delivered ceremony museum flight seat'\n",
       "\\item '1 2 glad ryanair repoed racist guy police glad many people angry staff'\n",
       "\\item '1 2 hey jetblue just want know impressed young man working gate 26 help'\n",
       "\\item '1 2 thanks rulers people united arab emirates audacity nviction taking histor'\n",
       "\\item '1 2 u military suppo saudi arabia united arab emirates bombed hospitals health clinics'\n",
       "\\item '1 2 united hotel food reimbursement jetblue recently gave 100 credit ffee mint'\n",
       "\\item '1 2uganda site astonishingly heroic rescue mission palestinian terrorists hijacked airfrance flight'\n",
       "\\item '1 3 dark mufc strip lingard dance celebration emirates stadium third goal ming arsenal pull one back'\n",
       "\\item '1 3 emirates againn'\n",
       "\\item '1 3 emirates airline looking cabin crew females basic salary 1153 usd every flying hour will paid ap'\n",
       "\\item '1 3 emirates bitches arsenal will remain bitches united mufc facup'\n",
       "\\item '1 3 emirates lingard winding arsenal fans sanchez sring arsmun facup mufc'\n",
       "\\item '1 3 lols exit emirates fa cup way t work us overall played well'\n",
       "\\item '1 3 manutd favorite sreline emirates ggmu'\n",
       "\\item '1 3 send time one year emirates hell'\n",
       "\\item '1 3 standard ars mun sreline emirates world back normal'\n",
       "\\item '1 30 finish emirates arsenal vs manutd buzzing yg'\n",
       "\\item '1 300 roundtrip emirates first class fare kuala lumpur dubai'\n",
       "\\item '1 300 roundtrip emirates first class fare kuala lumpur dubai adventure'\n",
       "\\item '1 300 roundtrip emirates first class fare kuala lumpur dubai via onemileatatime'\n",
       "\\item '1 300 roundtrip emirates first class fare kualalumpur dubai one mile time southeastasia'\n",
       "\\item '1 30am jetblue replacement crew finally shows people clap smh clapping people showed u'\n",
       "\\item '1 4 million views easily avoided ryanair epicfail pr'\n",
       "\\item '1 4 travel turkishairlines beware nnecting likely overbooked'\n",
       "\\end{enumerate*}\n"
      ],
      "text/markdown": [
       "1. NA\n",
       "2. '0 19 left play americanairlines arena miami florida usa wizards 109 113 heat nba 2018 2019'\n",
       "3. '0 2 emirates'\n",
       "4. '0 25 eps expected ryanair holdings plc ryaay'\n",
       "5. '0 25 eps expected ryanair holdings plc ryaay loews l sentiment 0 95'\n",
       "6. '0 34 eps expected modine manufacturing mpany mod jetblue airways jblu sentiment 0 94'\n",
       "7. '0 37 eps expected jetblue airways rporation jblu'\n",
       "8. '0 77 india v united arab emirates 16 00 10 01 teams sre yes 2 88 betfair sposbook 1 55'\n",
       "9. '0 min libbok gets vodam bulls underway vodam bulls 0 0 emirates lions bulvliowu'\n",
       "10. '0 respect emirates think skullduggery happening etihad allianz arena'\n",
       "11. '00 00 driving home emirates pockets'\n",
       "12. '00 edafe lmaoooooooo man chose santiago bernabeu fav stadium playing emirates regards club fans feelings'\n",
       "13. '005e5n bullet manufactured highbury turned pellet emirates arsenal'\n",
       "14. '007 bond 00 paws28186953 markfrank60 davidlammy ryanair paly nservatives mostly blame forc'\n",
       "15. '007 bond 00 voidthatbinds paws28186953 markfrank60 davidlammy ryanair nservatives large areas unt'\n",
       "16. '007aliyu used emirates practice moment'\n",
       "17. '007kameel neotenyx hullboydan ryanair enurage racism'\n",
       "18. '00mesh lingard mes emirates gun leans something actually gnna lose'\n",
       "19. '00strangers00 qatarairways offer london valid take first flight 15 jan next week'\n",
       "20. '01 02 02 45 pm 0545 2nd t20i nepal tour united arab emirates dubai feb 1 2019 uaevsnepal uaevnep'\n",
       "21. '01 12 2018 fchtonline 1 3 afcwimbledon emirates fa cup away home picture'\n",
       "22. '01saf gilljames54 one wonders world oh people use ryanair'\n",
       "23. '01saf much dislike ryanair t believe fault greece work'\n",
       "24. '01saf ridiculous customer service ryanair 2 people serve 200 ryanair thessaloniki greece customerservice'\n",
       "25. '025ebony nainaiwilliams ryanair charge made big show esing lady firs'\n",
       "26. '029aero britishairways boeing787 climbing away london heathrow airpo ba boeing b787 avia'\n",
       "27. '029aero easternairways embraer e170 london city airpo operating britishairways lcy erj170'\n",
       "28. '04 30 13 55 summerpalace beijinglayover tour fly auckland munich airchina ca784 amp lufthansa'\n",
       "29. '05 01 2019 ftfc 2 3 afcwimbledon emirates fa cup away home'\n",
       "30. '05 february 2019 07 01 pontifex uae day 2 catholic celebration popefrancis united arab emirates'\n",
       "31. '05 february 2019 14 06 relive pontifex visit uae popefrancis apostolic visit united arab emirates'\n",
       "32. '05012019 17 00cet unitedarabemirates vs bahrain livestream available 2 providers'\n",
       "33. '0504traveller us sta moxy jetblue ink deals 120 airbus a220s'\n",
       "34. '06 01 2019 eifzv ryanair ryanair es ryanairpilots ryanairespana b738 boeing ace aeropueo lanzarote'\n",
       "35. '06 01 2019 eigjp ryanair ryanair es ryanairpilots ryanairespana b738 boeing ace aeropueo lanzarote'\n",
       "36. '06 02 2019 eigsj ryanair ryanair es ryanairpilots ryanairespana b738 boeing ace aeropueo lanzarote'\n",
       "37. '06 02 2019 eigxi ryanair ryanair es ryanairpilots ryanairespana b738 boeing ace aeropueo lanzarote'\n",
       "38. '06 02 2019 lufthansa twilight sailing evening cancelled due extremely strong winds forecas'\n",
       "39. '060644francejen itvnews ryanair apologies lady stress caused'\n",
       "40. '063 may st george jetblue making nnections businesstravel travel'\n",
       "41. '069arns lingard banned emirates guy respect never club'\n",
       "42. '07 feb 2019 dengue dhf update 03 asia japan ex united arab emirates rr via promed mail'\n",
       "43. '07nfg lingard just moon walk emirates'\n",
       "44. '08 01 2019 eigxi ryanair ryanair es ryanairpilots ryanairespana b738 boeing ace aeropueo lanzarote'\n",
       "45. '08 09 1 3 ucl 09 10 1 3 pl 17 18 1 3 pl 18 19 1 3 fac love unter attack emirates mufc'\n",
       "46. '089968raph bbcspo anyone beat cardiff bournemouth t beaten top team wembley emirates'\n",
       "47. '09 01 2019 eigdm ryanair ryanair es ryanairpilots ryanairespana b738 boeing ace aeropueo lanzarote'\n",
       "48. '09 22 rlwc2021 one semi final emirates noh london'\n",
       "49. '09ea63 book flight somewhere fiver ryanair'\n",
       "50. '0bserver lufthansa koblerinpak uncle kobler please yaar'\n",
       "51. '0gbreadsticks jetblue beginning think luck'\n",
       "52. '0gbreadsticks jetblue got better minute good luck'\n",
       "53. '0gbreadsticks rosybud123 jetblue noooo just booked flight'\n",
       "54. '0gbreadsticks shocker delayed even now thanks sucking jetblue'\n",
       "55. '0gbreadsticks yuhyuhyuh jetblue worse luck hopefully u get home soon'\n",
       "56. '0gbreadsticks yuhyuhyuh rosybud123 jetblue like say just curse year bad flights literally'\n",
       "57. '0hmyst4rs watching ryanair racism sucks'\n",
       "58. '0mg ryanair cancelled'\n",
       "59. '0mrvaa yala al emirates good luck الامارات الهند'\n",
       "60. '0seikhuemen emirates cup official spurs'\n",
       "61. '0tt0man emplre richfiles1 turkishairlines ridleysttcg poor barbaric child t know better'\n",
       "62. '0uissal hi sorry innvenience may submit mplaint'\n",
       "63. '0vxrdose flights europe ryanair cheap 5 rn'\n",
       "64. '0zylv0lzubgtauu photos inside emirates bur ahmed prison aden detainees appear pictures overhear'\n",
       "65. '1 0 emirates tonight last night willmissthis leavingonajetplane'\n",
       "66. '1 0 emirates tonight willmissthis leavingonajetplane californiahereweme timzanni sharks'\n",
       "67. '1 0 loss united arab emirates 2019 asian cup graham arnold ffa difficult ro'\n",
       "68. '1 0 time added emirates result laurent koscielny injury earlier arsmun live'\n",
       "69. '1 0 united alexis sres return emirates silencing arsenal fans booing throughout'\n",
       "70. '1 00 finish emirates arsenal vs manutd buzzing yg emiratesfacup'\n",
       "71. '1 1 emirates really got skin explain much want us ruin tomorrow'\n",
       "72. '1 12 2019 americanairlines arena'\n",
       "73. '1 2 3 4 5 6 787 experience qatarairways boeing 787 dreamliner staing 28 october lagostogether'\n",
       "74. '1 2 airfrancefr airfrance airfranceklm going johannesburg airpo almost missing nnectio'\n",
       "75. '1 2 arsenal v cardiffcityfc 7 45pm emirates stadium arsenal three last pl matches'\n",
       "76. '1 2 emirates emiratessuppo early morning flight severe low back pain request better seat exit row mayb'\n",
       "77. '1 2 first two britishairways 747 400s delivered ceremony museum flight seat'\n",
       "78. '1 2 glad ryanair repoed racist guy police glad many people angry staff'\n",
       "79. '1 2 hey jetblue just want know impressed young man working gate 26 help'\n",
       "80. '1 2 thanks rulers people united arab emirates audacity nviction taking histor'\n",
       "81. '1 2 u military suppo saudi arabia united arab emirates bombed hospitals health clinics'\n",
       "82. '1 2 united hotel food reimbursement jetblue recently gave 100 credit ffee mint'\n",
       "83. '1 2uganda site astonishingly heroic rescue mission palestinian terrorists hijacked airfrance flight'\n",
       "84. '1 3 dark mufc strip lingard dance celebration emirates stadium third goal ming arsenal pull one back'\n",
       "85. '1 3 emirates againn'\n",
       "86. '1 3 emirates airline looking cabin crew females basic salary 1153 usd every flying hour will paid ap'\n",
       "87. '1 3 emirates bitches arsenal will remain bitches united mufc facup'\n",
       "88. '1 3 emirates lingard winding arsenal fans sanchez sring arsmun facup mufc'\n",
       "89. '1 3 lols exit emirates fa cup way t work us overall played well'\n",
       "90. '1 3 manutd favorite sreline emirates ggmu'\n",
       "91. '1 3 send time one year emirates hell'\n",
       "92. '1 3 standard ars mun sreline emirates world back normal'\n",
       "93. '1 30 finish emirates arsenal vs manutd buzzing yg'\n",
       "94. '1 300 roundtrip emirates first class fare kuala lumpur dubai'\n",
       "95. '1 300 roundtrip emirates first class fare kuala lumpur dubai adventure'\n",
       "96. '1 300 roundtrip emirates first class fare kuala lumpur dubai via onemileatatime'\n",
       "97. '1 300 roundtrip emirates first class fare kualalumpur dubai one mile time southeastasia'\n",
       "98. '1 30am jetblue replacement crew finally shows people clap smh clapping people showed u'\n",
       "99. '1 4 million views easily avoided ryanair epicfail pr'\n",
       "100. '1 4 travel turkishairlines beware nnecting likely overbooked'\n",
       "\n",
       "\n"
      ],
      "text/plain": [
       "  [1] NA                                                                                                        \n",
       "  [2] \"0 19 left play americanairlines arena miami florida usa wizards 109 113 heat nba 2018 2019\"              \n",
       "  [3] \"0 2 emirates\"                                                                                            \n",
       "  [4] \"0 25 eps expected ryanair holdings plc ryaay\"                                                            \n",
       "  [5] \"0 25 eps expected ryanair holdings plc ryaay loews l sentiment 0 95\"                                     \n",
       "  [6] \"0 34 eps expected modine manufacturing mpany mod jetblue airways jblu sentiment 0 94\"                    \n",
       "  [7] \"0 37 eps expected jetblue airways rporation jblu\"                                                        \n",
       "  [8] \"0 77 india v united arab emirates 16 00 10 01 teams sre yes 2 88 betfair sposbook 1 55\"                  \n",
       "  [9] \"0 min libbok gets vodam bulls underway vodam bulls 0 0 emirates lions bulvliowu\"                         \n",
       " [10] \"0 respect emirates think skullduggery happening etihad allianz arena\"                                    \n",
       " [11] \"00 00 driving home emirates pockets\"                                                                     \n",
       " [12] \"00 edafe lmaoooooooo man chose santiago bernabeu fav stadium playing emirates regards club fans feelings\"\n",
       " [13] \"005e5n bullet manufactured highbury turned pellet emirates arsenal\"                                      \n",
       " [14] \"007 bond 00 paws28186953 markfrank60 davidlammy ryanair paly nservatives mostly blame forc\"              \n",
       " [15] \"007 bond 00 voidthatbinds paws28186953 markfrank60 davidlammy ryanair nservatives large areas unt\"       \n",
       " [16] \"007aliyu used emirates practice moment\"                                                                  \n",
       " [17] \"007kameel neotenyx hullboydan ryanair enurage racism\"                                                    \n",
       " [18] \"00mesh lingard mes emirates gun leans something actually gnna lose\"                                      \n",
       " [19] \"00strangers00 qatarairways offer london valid take first flight 15 jan next week\"                        \n",
       " [20] \"01 02 02 45 pm 0545 2nd t20i nepal tour united arab emirates dubai feb 1 2019 uaevsnepal uaevnep\"        \n",
       " [21] \"01 12 2018 fchtonline 1 3 afcwimbledon emirates fa cup away home picture\"                                \n",
       " [22] \"01saf gilljames54 one wonders world oh people use ryanair\"                                               \n",
       " [23] \"01saf much dislike ryanair t believe fault greece work\"                                                  \n",
       " [24] \"01saf ridiculous customer service ryanair 2 people serve 200 ryanair thessaloniki greece customerservice\"\n",
       " [25] \"025ebony nainaiwilliams ryanair charge made big show esing lady firs\"                                    \n",
       " [26] \"029aero britishairways boeing787 climbing away london heathrow airpo ba boeing b787 avia\"                \n",
       " [27] \"029aero easternairways embraer e170 london city airpo operating britishairways lcy erj170\"               \n",
       " [28] \"04 30 13 55 summerpalace beijinglayover tour fly auckland munich airchina ca784 amp lufthansa\"           \n",
       " [29] \"05 01 2019 ftfc 2 3 afcwimbledon emirates fa cup away home\"                                              \n",
       " [30] \"05 february 2019 07 01 pontifex uae day 2 catholic celebration popefrancis united arab emirates\"         \n",
       " [31] \"05 february 2019 14 06 relive pontifex visit uae popefrancis apostolic visit united arab emirates\"       \n",
       " [32] \"05012019 17 00cet unitedarabemirates vs bahrain livestream available 2 providers\"                        \n",
       " [33] \"0504traveller us sta moxy jetblue ink deals 120 airbus a220s\"                                            \n",
       " [34] \"06 01 2019 eifzv ryanair ryanair es ryanairpilots ryanairespana b738 boeing ace aeropueo lanzarote\"      \n",
       " [35] \"06 01 2019 eigjp ryanair ryanair es ryanairpilots ryanairespana b738 boeing ace aeropueo lanzarote\"      \n",
       " [36] \"06 02 2019 eigsj ryanair ryanair es ryanairpilots ryanairespana b738 boeing ace aeropueo lanzarote\"      \n",
       " [37] \"06 02 2019 eigxi ryanair ryanair es ryanairpilots ryanairespana b738 boeing ace aeropueo lanzarote\"      \n",
       " [38] \"06 02 2019 lufthansa twilight sailing evening cancelled due extremely strong winds forecas\"              \n",
       " [39] \"060644francejen itvnews ryanair apologies lady stress caused\"                                            \n",
       " [40] \"063 may st george jetblue making nnections businesstravel travel\"                                        \n",
       " [41] \"069arns lingard banned emirates guy respect never club\"                                                  \n",
       " [42] \"07 feb 2019 dengue dhf update 03 asia japan ex united arab emirates rr via promed mail\"                  \n",
       " [43] \"07nfg lingard just moon walk emirates\"                                                                   \n",
       " [44] \"08 01 2019 eigxi ryanair ryanair es ryanairpilots ryanairespana b738 boeing ace aeropueo lanzarote\"      \n",
       " [45] \"08 09 1 3 ucl 09 10 1 3 pl 17 18 1 3 pl 18 19 1 3 fac love unter attack emirates mufc\"                   \n",
       " [46] \"089968raph bbcspo anyone beat cardiff bournemouth t beaten top team wembley emirates\"                    \n",
       " [47] \"09 01 2019 eigdm ryanair ryanair es ryanairpilots ryanairespana b738 boeing ace aeropueo lanzarote\"      \n",
       " [48] \"09 22 rlwc2021 one semi final emirates noh london\"                                                       \n",
       " [49] \"09ea63 book flight somewhere fiver ryanair\"                                                              \n",
       " [50] \"0bserver lufthansa koblerinpak uncle kobler please yaar\"                                                 \n",
       " [51] \"0gbreadsticks jetblue beginning think luck\"                                                              \n",
       " [52] \"0gbreadsticks jetblue got better minute good luck\"                                                       \n",
       " [53] \"0gbreadsticks rosybud123 jetblue noooo just booked flight\"                                               \n",
       " [54] \"0gbreadsticks shocker delayed even now thanks sucking jetblue\"                                           \n",
       " [55] \"0gbreadsticks yuhyuhyuh jetblue worse luck hopefully u get home soon\"                                    \n",
       " [56] \"0gbreadsticks yuhyuhyuh rosybud123 jetblue like say just curse year bad flights literally\"               \n",
       " [57] \"0hmyst4rs watching ryanair racism sucks\"                                                                 \n",
       " [58] \"0mg ryanair cancelled\"                                                                                   \n",
       " [59] \"0mrvaa yala al emirates good luck الامارات الهند\"                                                        \n",
       " [60] \"0seikhuemen emirates cup official spurs\"                                                                 \n",
       " [61] \"0tt0man emplre richfiles1 turkishairlines ridleysttcg poor barbaric child t know better\"                 \n",
       " [62] \"0uissal hi sorry innvenience may submit mplaint\"                                                         \n",
       " [63] \"0vxrdose flights europe ryanair cheap 5 rn\"                                                              \n",
       " [64] \"0zylv0lzubgtauu photos inside emirates bur ahmed prison aden detainees appear pictures overhear\"         \n",
       " [65] \"1 0 emirates tonight last night willmissthis leavingonajetplane\"                                         \n",
       " [66] \"1 0 emirates tonight willmissthis leavingonajetplane californiahereweme timzanni sharks\"                 \n",
       " [67] \"1 0 loss united arab emirates 2019 asian cup graham arnold ffa difficult ro\"                             \n",
       " [68] \"1 0 time added emirates result laurent koscielny injury earlier arsmun live\"                             \n",
       " [69] \"1 0 united alexis sres return emirates silencing arsenal fans booing throughout\"                         \n",
       " [70] \"1 00 finish emirates arsenal vs manutd buzzing yg emiratesfacup\"                                         \n",
       " [71] \"1 1 emirates really got skin explain much want us ruin tomorrow\"                                         \n",
       " [72] \"1 12 2019 americanairlines arena\"                                                                        \n",
       " [73] \"1 2 3 4 5 6 787 experience qatarairways boeing 787 dreamliner staing 28 october lagostogether\"           \n",
       " [74] \"1 2 airfrancefr airfrance airfranceklm going johannesburg airpo almost missing nnectio\"                  \n",
       " [75] \"1 2 arsenal v cardiffcityfc 7 45pm emirates stadium arsenal three last pl matches\"                       \n",
       " [76] \"1 2 emirates emiratessuppo early morning flight severe low back pain request better seat exit row mayb\"  \n",
       " [77] \"1 2 first two britishairways 747 400s delivered ceremony museum flight seat\"                             \n",
       " [78] \"1 2 glad ryanair repoed racist guy police glad many people angry staff\"                                  \n",
       " [79] \"1 2 hey jetblue just want know impressed young man working gate 26 help\"                                 \n",
       " [80] \"1 2 thanks rulers people united arab emirates audacity nviction taking histor\"                           \n",
       " [81] \"1 2 u military suppo saudi arabia united arab emirates bombed hospitals health clinics\"                  \n",
       " [82] \"1 2 united hotel food reimbursement jetblue recently gave 100 credit ffee mint\"                          \n",
       " [83] \"1 2uganda site astonishingly heroic rescue mission palestinian terrorists hijacked airfrance flight\"     \n",
       " [84] \"1 3 dark mufc strip lingard dance celebration emirates stadium third goal ming arsenal pull one back\"    \n",
       " [85] \"1 3 emirates againn\"                                                                                     \n",
       " [86] \"1 3 emirates airline looking cabin crew females basic salary 1153 usd every flying hour will paid ap\"    \n",
       " [87] \"1 3 emirates bitches arsenal will remain bitches united mufc facup\"                                      \n",
       " [88] \"1 3 emirates lingard winding arsenal fans sanchez sring arsmun facup mufc\"                               \n",
       " [89] \"1 3 lols exit emirates fa cup way t work us overall played well\"                                         \n",
       " [90] \"1 3 manutd favorite sreline emirates ggmu\"                                                               \n",
       " [91] \"1 3 send time one year emirates hell\"                                                                    \n",
       " [92] \"1 3 standard ars mun sreline emirates world back normal\"                                                 \n",
       " [93] \"1 30 finish emirates arsenal vs manutd buzzing yg\"                                                       \n",
       " [94] \"1 300 roundtrip emirates first class fare kuala lumpur dubai\"                                            \n",
       " [95] \"1 300 roundtrip emirates first class fare kuala lumpur dubai adventure\"                                  \n",
       " [96] \"1 300 roundtrip emirates first class fare kuala lumpur dubai via onemileatatime\"                         \n",
       " [97] \"1 300 roundtrip emirates first class fare kualalumpur dubai one mile time southeastasia\"                 \n",
       " [98] \"1 30am jetblue replacement crew finally shows people clap smh clapping people showed u\"                  \n",
       " [99] \"1 4 million views easily avoided ryanair epicfail pr\"                                                    \n",
       "[100] \"1 4 travel turkishairlines beware nnecting likely overbooked\"                                            "
      ]
     },
     "metadata": {},
     "output_type": "display_data"
    }
   ],
   "source": [
    "dg"
   ]
  },
  {
   "cell_type": "code",
   "execution_count": 45,
   "metadata": {},
   "outputs": [],
   "source": [
    "dg[dg == 0] <- NA\n",
    "dc = analyzeSentiment(dg)"
   ]
  },
  {
   "cell_type": "code",
   "execution_count": 51,
   "metadata": {},
   "outputs": [
    {
     "data": {
      "text/plain": [
       " text_processed         text             sentiment         sentiment    \n",
       " Length:100000      Length:100000      Min.   :-2.5760   Min.   :-0.50  \n",
       " Class :character   Class :character   1st Qu.:-0.1250   1st Qu.:-0.14  \n",
       " Mode  :character   Mode  :character   Median : 0.0000   Median : 0.03  \n",
       "                                       Mean   : 0.0224   Mean   : 0.02  \n",
       "                                       3rd Qu.: 0.2121   3rd Qu.: 0.14  \n",
       "                                       Max.   : 2.7468   Max.   : 0.50  \n",
       "                                                         NA's   :32000  \n",
       "   sentiment       sentiment    \n",
       " Min.   :-0.50   Min.   :-0.50  \n",
       " 1st Qu.:-0.14   1st Qu.:-0.14  \n",
       " Median : 0.03   Median : 0.03  \n",
       " Mean   : 0.02   Mean   : 0.02  \n",
       " 3rd Qu.: 0.14   3rd Qu.: 0.14  \n",
       " Max.   : 0.50   Max.   : 0.50  \n",
       " NA's   :32000   NA's   :32000  "
      ]
     },
     "metadata": {},
     "output_type": "display_data"
    }
   ],
   "source": [
    "dc[dc == 0] <- NA\n",
    "du <- mutate(dc, mean_sentiment = rowMeans(select(dc, starts_with(\"Sentiment\")), na.rm=T))\n",
    "sentiment <- du$mean_sentiment\n",
    "df <- cbind(df, sentiment)\n",
    "summary(df)"
   ]
  },
  {
   "cell_type": "code",
   "execution_count": 27,
   "metadata": {},
   "outputs": [
    {
     "data": {
      "text/html": [
       "<ol class=list-inline>\n",
       "\t<li>100000</li>\n",
       "\t<li>2</li>\n",
       "</ol>\n"
      ],
      "text/latex": [
       "\\begin{enumerate*}\n",
       "\\item 100000\n",
       "\\item 2\n",
       "\\end{enumerate*}\n"
      ],
      "text/markdown": [
       "1. 100000\n",
       "2. 2\n",
       "\n",
       "\n"
      ],
      "text/plain": [
       "[1] 100000      2"
      ]
     },
     "metadata": {},
     "output_type": "display_data"
    }
   ],
   "source": [
    "library(sentimentr)\n",
    "dim(df)"
   ]
  },
  {
   "cell_type": "code",
   "execution_count": 28,
   "metadata": {},
   "outputs": [],
   "source": [
    "dg <- get_sentences(df$text_processed)\n",
    "df$sentiment <- sentiment(dg)$sentiment\n"
   ]
  },
  {
   "cell_type": "code",
   "execution_count": 30,
   "metadata": {},
   "outputs": [
    {
     "data": {
      "text/plain": [
       " text_processed         text             sentiment      \n",
       " Length:100000      Length:100000      Min.   :-2.5760  \n",
       " Class :character   Class :character   1st Qu.:-0.1250  \n",
       " Mode  :character   Mode  :character   Median : 0.0000  \n",
       "                                       Mean   : 0.0224  \n",
       "                                       3rd Qu.: 0.2121  \n",
       "                                       Max.   : 2.7468  "
      ]
     },
     "metadata": {},
     "output_type": "display_data"
    }
   ],
   "source": [
    "summary(df)"
   ]
  },
  {
   "cell_type": "code",
   "execution_count": 36,
   "metadata": {},
   "outputs": [
    {
     "data": {
      "text/plain": [
       " text_processed         text             sentiment      \n",
       " Length:100000      Length:100000      Min.   :-2.5760  \n",
       " Class :character   Class :character   1st Qu.:-0.1250  \n",
       " Mode  :character   Mode  :character   Median : 0.0000  \n",
       "                                       Mean   : 0.0224  \n",
       "                                       3rd Qu.: 0.2121  \n",
       "                                       Max.   : 2.7468  "
      ]
     },
     "metadata": {},
     "output_type": "display_data"
    }
   ],
   "source": [
    "dg <- df[1:100000,]\n",
    "corpus <- get_sentences(dg$text_processed)\n",
    "dg$sentiment <- sentiment(corpus)$sentiment\n",
    "summary(dg)"
   ]
  },
  {
   "cell_type": "code",
   "execution_count": 37,
   "metadata": {},
   "outputs": [
    {
     "data": {
      "text/plain": [
       " text_processed         text             sentiment       sentiment$sentiment\n",
       " Length:100000      Length:100000      Min.   :-2.5760   Min.   :-2.5760    \n",
       " Class :character   Class :character   1st Qu.:-0.1250   1st Qu.:-0.1250    \n",
       " Mode  :character   Mode  :character   Median : 0.0000   Median : 0.0000    \n",
       "                                       Mean   : 0.0224   Mean   : 0.0224    \n",
       "                                       3rd Qu.: 0.2121   3rd Qu.: 0.2121    \n",
       "                                       Max.   : 2.7468   Max.   : 2.7468    "
      ]
     },
     "metadata": {},
     "output_type": "display_data"
    }
   ],
   "source": [
    "dg <- df[1:100000,]\n",
    "corpus <- get_sentences(dg$text_processed)\n",
    "sentiment <- sentiment(corpus)\n",
    "dg <- cbind(dg, sentiment$sentiment)\n",
    "summary(dg)"
   ]
  },
  {
   "cell_type": "code",
   "execution_count": null,
   "metadata": {},
   "outputs": [],
   "source": []
  }
 ],
 "metadata": {
  "associatedRecipe": "compute_airlines_scored_sentimentR",
  "creator": "vdestoecklin",
  "customFields": {},
  "kernelspec": {
   "display_name": "R (env RVEST__3_)",
   "language": "R",
   "name": "r-dku-venv-rvest__3_"
  },
  "language_info": {
   "codemirror_mode": "r",
   "file_extension": ".r",
   "mimetype": "text/x-r-source",
   "name": "R",
   "pygments_lexer": "r",
   "version": "3.5.0"
  },
  "tags": [
   "recipe-editor"
  ]
 },
 "nbformat": 4,
 "nbformat_minor": 1
}
